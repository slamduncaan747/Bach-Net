{
  "cells": [
    {
      "cell_type": "code",
      "execution_count": null,
      "metadata": {
        "id": "5UgRKACV7NAn"
      },
      "outputs": [],
      "source": [
        "!git clone Bach-Net"
      ]
    },
    {
      "cell_type": "code",
      "execution_count": null,
      "metadata": {
        "id": "xg9fdozw7YnE"
      },
      "outputs": [],
      "source": [
        "from google.colab import drive\n",
        "drive.mount('/content/drive')"
      ]
    },
    {
      "cell_type": "code",
      "execution_count": null,
      "metadata": {
        "colab": {
          "base_uri": "https://localhost:8080/",
          "height": 216
        },
        "id": "lI_xLn3b7Z8v",
        "outputId": "ea1c7337-fdde-44f2-8cea-0e3c0dff6a71"
      },
      "outputs": [],
      "source": [
        "\n",
        "import pickle\n",
        "file_path = '/content/drive/MyDrive/bach-net-dataset.pkl'\n",
        "\n",
        "with open(file_path, 'rb') as f:\n",
        "    dataset = pickle.load(f)\n",
        "with open('Mini-Bach/dataset.pkl', 'wb') as f:\n",
        "    pickle.dump(dataset, f)\n"
      ]
    },
    {
      "cell_type": "code",
      "execution_count": null,
      "metadata": {
        "id": "lBRtIlCL7gLx"
      },
      "outputs": [],
      "source": [
        "%cd Mini-Bach"
      ]
    },
    {
      "cell_type": "code",
      "execution_count": null,
      "metadata": {
        "id": "iUmyC_Pl7gfR"
      },
      "outputs": [],
      "source": [
        "python train.py"
      ]
    }
  ],
  "metadata": {
    "colab": {
      "provenance": []
    },
    "kernelspec": {
      "display_name": "Python 3",
      "name": "python3"
    },
    "language_info": {
      "name": "python"
    }
  },
  "nbformat": 4,
  "nbformat_minor": 0
}
